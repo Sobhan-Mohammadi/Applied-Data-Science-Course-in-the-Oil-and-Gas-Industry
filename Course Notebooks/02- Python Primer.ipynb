{
 "cells": [
  {
   "cell_type": "markdown",
   "metadata": {},
   "source": [
    "# Applied Data Science in the Oil and Gas Industry *(Tutorial: 2)*\n",
    "\n",
    "---\n",
    "### Badr Eddine Berrehal (Petroleum Engineer & Data Detective)\n",
    "- **Email:** [berrehalbadr@gmail.com](berrehalbadr@gmail.com)\n",
    "- **LinkedIn:** [Badr Berrehal](https://www.linkedin.com/in/badreddine-berrehal-a51010175)\n",
    "- **Personal Web site:** [UDATA](https://sites.google.com/view/badreddine-berrehal/accueil)\n",
    "- **GitHub:** [berrehalbadr](https://github.com/berrehalbadr)\n",
    "- **License Type:** MIT license\n",
    "___"
   ]
  },
  {
   "cell_type": "markdown",
   "metadata": {
    "id": "XsaAPak6q_sM"
   },
   "source": [
    "# 1. Essential of Python\n",
    "\n",
    "## 1.1 What is this?\n",
    "In this fisrt section we will focus on the basics of Python Programming Language which will be used in the up comming tutorials of machine learning.\n",
    "\n",
    "## 1.2 Notebook Content\n",
    "Basics of Python Programming Language\n",
    "  *  Language Structure and Meaning - Syntax and Semantics of the programming language\n",
    "  *  How can we use numbers and perform operations in Python?\n",
    "  *  Why is Python a Dynamic Language and strongly typed? \n",
    "      https://wiki.python.org/moin/Why%20is%20Python%20a%20dynamic%20language%20and%20also%20a%20strongly%20typed%20language\n",
    "  \n",
    "Data Structures - Lists, Tuples, Sets and Dictionaries - https://docs.python.org/3/tutorial/datastructures.html\n",
    "\n",
    "Control Flow Tools and Iterators - if, else, for and while statements - https://docs.python.org/3/tutorial/controlflow.html\n",
    "\n",
    "Basic Object-Oriented Programming - Functions, Methods and Classes\n",
    "\n",
    "Python Libraries - How to access vast library of modules and packages available in Python, along with other useful libraries?\n",
    "\n",
    "  *   numpy - Scientific Computing using arrays and matrices\n",
    "  *   pandas - Data Analysis\n",
    "  *   matplotlib - 2D Plotting and Visualization\n",
    "  *   scikit-learn - Machine Learning - Will be covered in Chapter "
   ]
  },
  {
   "cell_type": "markdown",
   "metadata": {
    "id": "eJTYuwpSq_sQ"
   },
   "source": [
    "# 2. Basics"
   ]
  },
  {
   "cell_type": "code",
   "execution_count": null,
   "metadata": {
    "id": "jDW7l5a3q_sR"
   },
   "outputs": [],
   "source": [
    "from math import *"
   ]
  },
  {
   "cell_type": "code",
   "execution_count": null,
   "metadata": {
    "id": "7DktU3wEq_sR",
    "outputId": "2eb6511b-f7b3-4ec7-d274-822cc88224bb"
   },
   "outputs": [
    {
     "data": {
      "text/plain": [
       "16"
      ]
     },
     "execution_count": 11,
     "metadata": {
      "tags": []
     },
     "output_type": "execute_result"
    }
   ],
   "source": [
    "4*4"
   ]
  },
  {
   "cell_type": "code",
   "execution_count": null,
   "metadata": {
    "id": "0M0unVnHq_sS",
    "outputId": "c41c7879-cd18-48f5-ff47-cf4691ed240f"
   },
   "outputs": [
    {
     "data": {
      "text/plain": [
       "16"
      ]
     },
     "execution_count": 12,
     "metadata": {
      "tags": []
     },
     "output_type": "execute_result"
    }
   ],
   "source": [
    "4     *     4"
   ]
  },
  {
   "cell_type": "code",
   "execution_count": null,
   "metadata": {
    "id": "q3eU4r3cq_sS",
    "outputId": "131e2fdd-a255-4866-e1fb-5a737cb9b6e6"
   },
   "outputs": [
    {
     "data": {
      "text/plain": [
       "42"
      ]
     },
     "execution_count": 13,
     "metadata": {
      "tags": []
     },
     "output_type": "execute_result"
    }
   ],
   "source": [
    "4*4+2*4+9*2"
   ]
  },
  {
   "cell_type": "code",
   "execution_count": null,
   "metadata": {
    "id": "me4wMvhuq_sT",
    "outputId": "c1a39e27-57ce-4e4e-bee0-1fdcdb590214"
   },
   "outputs": [
    {
     "data": {
      "text/plain": [
       "64"
      ]
     },
     "execution_count": 14,
     "metadata": {
      "tags": []
     },
     "output_type": "execute_result"
    }
   ],
   "source": [
    "(4*2)+(8*7)"
   ]
  },
  {
   "cell_type": "code",
   "execution_count": null,
   "metadata": {
    "id": "fmjaZg6kq_sT",
    "outputId": "718c0de1-f4ab-4f1e-8a12-147cb0feab9c"
   },
   "outputs": [
    {
     "data": {
      "text/plain": [
       "1000"
      ]
     },
     "execution_count": 15,
     "metadata": {
      "tags": []
     },
     "output_type": "execute_result"
    }
   ],
   "source": [
    "10**3"
   ]
  },
  {
   "cell_type": "code",
   "execution_count": null,
   "metadata": {
    "id": "bSqDF_oLq_sT",
    "outputId": "f79d6eb9-a1dd-4434-8640-8ace7a87199d"
   },
   "outputs": [
    {
     "data": {
      "text/plain": [
       "1"
      ]
     },
     "execution_count": 16,
     "metadata": {
      "tags": []
     },
     "output_type": "execute_result"
    }
   ],
   "source": [
    "13%2"
   ]
  },
  {
   "cell_type": "code",
   "execution_count": null,
   "metadata": {
    "id": "eIrjHrmmq_sU",
    "outputId": "45accfbb-d0c6-45c9-837d-c00b1074bf10"
   },
   "outputs": [
    {
     "data": {
      "text/plain": [
       "0.15425144988758405"
      ]
     },
     "execution_count": 17,
     "metadata": {
      "tags": []
     },
     "output_type": "execute_result"
    }
   ],
   "source": [
    "cos(30)"
   ]
  },
  {
   "cell_type": "code",
   "execution_count": null,
   "metadata": {
    "id": "fqaSnJK3q_sU",
    "outputId": "b503c149-48f2-4d6f-c41e-7eabd500d5de"
   },
   "outputs": [
    {
     "data": {
      "text/plain": [
       "-0.9880316240928618"
      ]
     },
     "execution_count": 9,
     "metadata": {
      "tags": []
     },
     "output_type": "execute_result"
    }
   ],
   "source": [
    "sin(30)"
   ]
  },
  {
   "cell_type": "code",
   "execution_count": null,
   "metadata": {
    "id": "5-G2szdAq_sU"
   },
   "outputs": [],
   "source": [
    "# This is a comment, use this to make your code more readable"
   ]
  },
  {
   "cell_type": "code",
   "execution_count": null,
   "metadata": {
    "id": "8YxAFGO0q_sV",
    "outputId": "4869a4c8-d818-4b6a-d81a-dd80a8601b7d"
   },
   "outputs": [
    {
     "data": {
      "text/plain": [
       "600"
      ]
     },
     "execution_count": 20,
     "metadata": {
      "tags": []
     },
     "output_type": "execute_result"
    }
   ],
   "source": [
    "# Assigning a variable name\n",
    "\n",
    "Joseph=100\n",
    "wow=200\n",
    "anyname____=300\n",
    "d=Joseph+wow+anyname____\n",
    "d"
   ]
  },
  {
   "cell_type": "code",
   "execution_count": null,
   "metadata": {
    "id": "0eTFQ74nq_sV",
    "outputId": "7ef428e0-74d7-4afc-83e8-a8b1de48f744"
   },
   "outputs": [
    {
     "data": {
      "text/plain": [
       "'I love Oil and Gas'"
      ]
     },
     "execution_count": 23,
     "metadata": {
      "tags": []
     },
     "output_type": "execute_result"
    }
   ],
   "source": [
    "# Playing with strings\n",
    "\n",
    "x='I love Oil and Gas'\n",
    "x\n",
    "y=\"Oil_Gas\"\n",
    "y[0]\n",
    "y[0:4]\n",
    "y[:]\n",
    "y[:6]\n",
    "y[2:]\n",
    "z='The optimum well spacing is 950 ft'\n",
    "len(z)"
   ]
  },
  {
   "cell_type": "markdown",
   "metadata": {
    "id": "Zo9yIo6Nq_sV"
   },
   "source": [
    "# 3. Data Structures\n",
    "\n",
    "Some of the basic built-in datatypes which are commonly used in a program include - integer, float, complex, boolean, string and None datatypes. Apart from these basic ones, there are few more data structures which will be discussed in this section. These compound type data structures inlcude lists, tuple, dictionary and sets. A brief description along with an example for each case can help us understand their format and different ways in which they could be used. For detailed explanation of each data structure, the user is recommended to refer Python documentation which covers all of them in more detail.\n",
    "\n",
    "Reference to Python Documentation - Data Structures: https://docs.python.org/3/tutorial/datastructures.html#"
   ]
  },
  {
   "cell_type": "markdown",
   "metadata": {
    "id": "lUV-gVk7q_sW"
   },
   "source": [
    "**Must to know about Lists**\n",
    "\n",
    "- Enclosed within square brackets [], lists are an ordered and mutable array of elements, separated by a comma, which can include different data types like int, float, string etc. \n",
    "- It is possible to have duplicate elements in a list. \n",
    "- Nested list is a 'list of lists' and is often used for two-dimensional matrix. Lists and its elements could be accessed in different ways. \n",
    "- The indexing starts from 0 which is the first element of the list. \n",
    "- Negative indexes could also be used to access the elements of a list where the last element has an index of -1, the second last is -2 and so on. \n",
    "- There are multiple methods available to access or modify elements of a list. \n",
    "- Some of the examples include append(), pop(), count(), sort () and many more. \n",
    "- Since the lists are mutable, it is possible to modify/change the elements of a list as well as combine multiple lists. "
   ]
  },
  {
   "cell_type": "code",
   "execution_count": null,
   "metadata": {
    "id": "9BMzO-Vlq_sW",
    "outputId": "782e5a7b-3aca-4d2b-9562-6a71abe6c87d"
   },
   "outputs": [
    {
     "data": {
      "text/plain": [
       "['Upstream', 'Midstream', 'Downstream']"
      ]
     },
     "execution_count": 25,
     "metadata": {
      "tags": []
     },
     "output_type": "execute_result"
    }
   ],
   "source": [
    "# Playing with lists\n",
    "list_oil_and_gas_sectors=['Upstream','Midstream','Downstream']\n",
    "list_oil_and_gas_sectors"
   ]
  },
  {
   "cell_type": "code",
   "execution_count": null,
   "metadata": {
    "id": "YOG0hQn9q_sW",
    "outputId": "09f0dbbe-5d3d-4807-edae-a58410e5f9ca"
   },
   "outputs": [
    {
     "data": {
      "text/plain": [
       "['Upstream',\n",
       " 'Midstream',\n",
       " 'Downstream',\n",
       " 'Yeah but there is surely something else ']"
      ]
     },
     "execution_count": 26,
     "metadata": {
      "tags": []
     },
     "output_type": "execute_result"
    }
   ],
   "source": [
    "list_oil_and_gas_sectors.append('Yeah but there is surely something else ')\n",
    "list_oil_and_gas_sectors"
   ]
  },
  {
   "cell_type": "code",
   "execution_count": null,
   "metadata": {
    "id": "GeZkO8sfq_sW",
    "outputId": "1d8bed40-8875-4233-d9a5-8b6047291d0a"
   },
   "outputs": [
    {
     "data": {
      "text/plain": [
       "['Upstream',\n",
       " 'Midstream',\n",
       " 'Downstream',\n",
       " 'Yeah but there is surely something else ',\n",
       " 100,\n",
       " 10000000000000]"
      ]
     },
     "execution_count": 30,
     "metadata": {
      "tags": []
     },
     "output_type": "execute_result"
    }
   ],
   "source": [
    "# This is how you add things to a list\n",
    "list_oil_and_gas_sectors.append(10000000000000)\n",
    "list_oil_and_gas_sectors"
   ]
  },
  {
   "cell_type": "code",
   "execution_count": null,
   "metadata": {
    "id": "owFx-u4wq_sX",
    "outputId": "f170c640-6d7d-4739-d9e0-5199396a22e5"
   },
   "outputs": [
    {
     "name": "stdout",
     "output_type": "stream",
     "text": [
      "Upstream\n",
      "Midstream\n",
      "Downstream\n",
      "Yeah but there is surely something else \n"
     ]
    },
    {
     "data": {
      "text/plain": [
       "100"
      ]
     },
     "execution_count": 33,
     "metadata": {
      "tags": []
     },
     "output_type": "execute_result"
    }
   ],
   "source": [
    "# Selecting an element based on it's index\n",
    "print (list_oil_and_gas_sectors[0])\n",
    "print (list_oil_and_gas_sectors[1])\n",
    "print (list_oil_and_gas_sectors[2])\n",
    "print (list_oil_and_gas_sectors[3])\n",
    "list_oil_and_gas_sectors[4]"
   ]
  },
  {
   "cell_type": "code",
   "execution_count": null,
   "metadata": {
    "id": "dYF4M-FWq_sX",
    "outputId": "7a768692-e632-4c50-df08-bee146914203"
   },
   "outputs": [
    {
     "data": {
      "text/plain": [
       "['Upstream',\n",
       " 'Midstream',\n",
       " 'Downstream',\n",
       " 'Yeah but there is surely something else ']"
      ]
     },
     "execution_count": 35,
     "metadata": {
      "tags": []
     },
     "output_type": "execute_result"
    }
   ],
   "source": [
    "# Get a series of them \n",
    "list_oil_and_gas_sectors[0:4]"
   ]
  },
  {
   "cell_type": "code",
   "execution_count": null,
   "metadata": {
    "id": "3zoFrD3Fq_sX",
    "outputId": "38a6d421-ff60-4ffc-9872-76af325d6b37"
   },
   "outputs": [
    {
     "data": {
      "text/plain": [
       "['See here, well yeah',\n",
       " 'Midstream',\n",
       " 'Downstream',\n",
       " 'Yeah but there is surely something else ',\n",
       " 100,\n",
       " 10000000000000]"
      ]
     },
     "execution_count": 37,
     "metadata": {
      "tags": []
     },
     "output_type": "execute_result"
    }
   ],
   "source": [
    "# Assigining an other value to an index, will smash the previous\n",
    "list_oil_and_gas_sectors[0]='See here, well yeah'\n",
    "list_oil_and_gas_sectors"
   ]
  },
  {
   "cell_type": "code",
   "execution_count": null,
   "metadata": {
    "id": "Edg68dIqq_sY",
    "outputId": "edc1cade-7627-41e4-ac44-1c58b935ec88"
   },
   "outputs": [
    {
     "data": {
      "text/plain": [
       "[10, 20, [30, 40, 50, 60]]"
      ]
     },
     "execution_count": 38,
     "metadata": {
      "tags": []
     },
     "output_type": "execute_result"
    }
   ],
   "source": [
    "# Nested lists\n",
    "nested_list=[10,20, [30,40,50,60]]\n",
    "nested_list"
   ]
  },
  {
   "cell_type": "code",
   "execution_count": null,
   "metadata": {
    "id": "Lrvq6DUKq_sY",
    "outputId": "8933e21c-d1f3-48fd-e7ca-27b27ca25885"
   },
   "outputs": [
    {
     "data": {
      "text/plain": [
       "30"
      ]
     },
     "execution_count": 39,
     "metadata": {
      "tags": []
     },
     "output_type": "execute_result"
    }
   ],
   "source": [
    "nested_list[2][0]"
   ]
  },
  {
   "cell_type": "code",
   "execution_count": null,
   "metadata": {
    "id": "7qDGGGZ1q_sY",
    "outputId": "aa16ec56-3f47-4423-a1fe-5a17b6ebce5e"
   },
   "outputs": [
    {
     "data": {
      "text/plain": [
       "3"
      ]
     },
     "execution_count": 40,
     "metadata": {
      "tags": []
     },
     "output_type": "execute_result"
    }
   ],
   "source": [
    "nested_list2=[10,20, [30,40,50,60, [4,3,1]]]\n",
    "nested_list2[2][4][1]"
   ]
  },
  {
   "cell_type": "markdown",
   "metadata": {
    "id": "TD9q38-wq_sY"
   },
   "source": [
    "**Must to know about Tuples** <br>\n",
    "\n",
    "- Enclosed within curved brackets (), tuples are very similar to a list, with a primary difference being their immutable nature (unchangeable). \n",
    "- Tuples usually contain a heterogeneous sequence of elements accessed via unpacking or indexing. The elements are ordered and also separated by a comma, just like a list. \n",
    "- Elements are accessed in the same way as a list and the indexing starts with 0 as well. \n",
    "- Similar to lists, negative indexes can be used to access the elements of a tuple where the last element has an index of -1, the second last is -2 and so on. \n",
    "- Some of the methods available for a tuple include count() and index(). \n",
    "- Advantages of using a tuple instead of a list include fast execution compared to an equivalent list as well as situations where we do not want the data to be modified. \n"
   ]
  },
  {
   "cell_type": "code",
   "execution_count": null,
   "metadata": {
    "id": "AJZZ-k_Kq_sZ"
   },
   "outputs": [],
   "source": [
    "# tuples\n",
    "simple_tuple = (1,2,3) \n",
    "mixed_tuple = (1,None,'O&G',3.14,True) \n",
    "nested_tuple = ([1,2,3], [10,20,30], ['Example', 'Nested', 'Tuple']) \n",
    "simple_but_with_repeated_values = (1,2,3,3,2,2,2,1,5,8,0) "
   ]
  },
  {
   "cell_type": "code",
   "execution_count": null,
   "metadata": {
    "id": "3QyhFuG3q_sZ",
    "outputId": "d227a3ea-9a98-4ebc-c537-a4675a7ff065"
   },
   "outputs": [
    {
     "name": "stdout",
     "output_type": "stream",
     "text": [
      "1\n",
      "3.14\n",
      "Nested\n",
      "4\n",
      "['Nested', 'Tuple']\n",
      "(1, 2, 3, 1, None, 'O&G', 3.14, True)\n"
     ]
    }
   ],
   "source": [
    "print(simple_tuple[0]) \n",
    "print(mixed_tuple[-2]) \n",
    "print(nested_tuple[2][1]) # output is 'Nested'\n",
    "print(simple_but_with_repeated_values.count(2)) # output is 4\n",
    "print(nested_tuple[2][1:3]) # slicing to access range of elements, \n",
    "print(simple_tuple + mixed_tuple) # combining elements of two lists,"
   ]
  },
  {
   "cell_type": "code",
   "execution_count": null,
   "metadata": {
    "id": "O6afn_aoq_sZ"
   },
   "outputs": [],
   "source": [
    "# tuple1[0] = 100 \n",
    "\n",
    "# Error - since the elements cannot be changed\n",
    "'''---------------------------------------------------------------------------\n",
    "TypeError                                 Traceback (most recent call last)\n",
    "<ipython-input-25-8f8834d0d1a3> in <module>\n",
    "----> 1 tuple1[0] = 100\n",
    "\n",
    "TypeError: 'tuple' object does not support item assignment'''"
   ]
  },
  {
   "cell_type": "markdown",
   "metadata": {
    "id": "lNC72-EMq_sa"
   },
   "source": [
    "**Must to know about Dictionary** <br>\n",
    "\n",
    "- Enclosed within curly brackets {}, dictionary is another composite datatype which is also sometimes known as associative array, and consists of a collection of key-value pairs. \n",
    "- It has certain similarities with a list since both datatypes are mutable, dynamic (increase or decrease size) and can be nested (dictionary within a dictionary). \n",
    "- The primary difference lies in the way elements are accessed. Dictionary elements are accessed via keys instead of the index position. \n",
    "- A dictionary can also be created using a built-in function, dict(), as shown in the example below. \n",
    "- One of the restrictions for a dictionary is that a given 'key' can only appear once. Some of the commonly used methods for a dictionary include clear(), items(), keys(), values() and pop(). "
   ]
  },
  {
   "cell_type": "code",
   "execution_count": null,
   "metadata": {
    "id": "6E3a9LStq_sa",
    "outputId": "e5d76311-1e96-4a52-ec3e-a290214ab858"
   },
   "outputs": [
    {
     "data": {
      "text/plain": [
       "{'USA': {'Chevron', 'Conoco', 'Exxon'},\n",
       " 'UK': 'BP',\n",
       " 'DZ': 'Sonatrach',\n",
       " 'Revenue': [279.3, 158.9, 38.73, 303.7, 109.1]}"
      ]
     },
     "execution_count": 16,
     "metadata": {
      "tags": []
     },
     "output_type": "execute_result"
    }
   ],
   "source": [
    "# This is a dictionary\n",
    "Models={'ML_Models':['ANN','SVM','RF','GB','XGB'],\n",
    "        'DL_Models':['MPN','DNN','CNN','RNN','LSTM','GA'],\n",
    "        'Score':[90,85,95,90,100],\n",
    "       'Change this':['A','B','C','D']}\n",
    "Models\n",
    "\n",
    "# nested dictionary\n",
    "Companies = dict(\n",
    "    USA = {'Exxon', 'Chevron', 'Conoco'},\n",
    "    UK = 'BP',\n",
    "    DZ = 'Sonatrach',\n",
    "    Revenue = [279.3, 158.9, 38.73, 303.7, 109.1])\n",
    "\n",
    "Companies"
   ]
  },
  {
   "cell_type": "code",
   "execution_count": null,
   "metadata": {
    "id": "jGxH0WDLq_sb",
    "outputId": "038ecf24-1f39-4fca-be6f-c8ef0e2912d0"
   },
   "outputs": [
    {
     "name": "stdout",
     "output_type": "stream",
     "text": [
      "['ANN', 'SVM', 'RF', 'GB', 'XGB']\n",
      "{'ML_Models': ['ANN', 'SVM', 'RF', 'GB', 'XGB'], 'DL_Models': ['MPN', 'DNN', 'CNN', 'RNN', 'LSTM', 'GA'], 'Score': [90, 85, 95, 90, 100], 'Change this': 'Now its changed thank you'}\n",
      "109.1\n",
      "Sonatrach\n",
      "\n",
      "\n",
      "dict_keys(['USA', 'UK', 'DZ', 'Revenue'])\n",
      "dict_values([{'Conoco', 'Chevron', 'Exxon'}, 'BP', 'Sonatrach', [279.3, 158.9, 38.73, 303.7, 109.1]])\n"
     ]
    }
   ],
   "source": [
    "print(Models['ML_Models']) # access an element using key, \n",
    "Models['Change this'] = 'Now its changed thank you'  # assign a new value based on a key\n",
    "print(Models)\n",
    "\n",
    "print(Companies['Revenue'][-1]) # Revenue of Sonatrach in billion, USD\n",
    "print(list(Companies.items())[2][1]) # returns the Revenues. First item is key and second item is value\n",
    "\n",
    "print('\\n')\n",
    "print(Companies.keys()) # output is a list of all keys\n",
    "print(Companies.values()) # output is the value of all keys"
   ]
  },
  {
   "cell_type": "markdown",
   "metadata": {
    "id": "W5yKeEkzq_sb"
   },
   "source": [
    "**Must to know about Sets** <br>\n",
    "- Enclosed within a curly braces {} and separated by a comma, sets are unordered collection of items. \n",
    "- Since they elements are not in any particular order, indexing is of no meaning in sets. \n",
    "- Sets can have elements of different data types but they have to be unique and must be immutable. \n",
    "- However, the set itself can be changed and it is possible to add/remove items from it. \n",
    "- A big advantage of using the sets is the utility of being able to perform mathematical operations like union, intersection, symmetric difference etc. \n",
    "- Although elements could be of different datatypes like int, float or string, but a set cannot have mutable elements like list or dictionary as its element. \n",
    "- An example is shown where the elements of a set are updated and union of two sets are printed out. \n",
    "- Some of the methods available for set are add(), clear(), discard(), intersection() and pop() etc."
   ]
  },
  {
   "cell_type": "code",
   "execution_count": null,
   "metadata": {
    "id": "_7IiIzzcq_sc",
    "outputId": "bd5e6d47-38e4-4b51-f74a-1aa552db7afa"
   },
   "outputs": [
    {
     "data": {
      "text/plain": [
       "{0, 1, 2, 3, 5, 8}"
      ]
     },
     "execution_count": 29,
     "metadata": {
      "tags": []
     },
     "output_type": "execute_result"
    }
   ],
   "source": [
    "# Playing with sets\n",
    "simple_set = {1,2,3}\n",
    "mixed_set = {1,None,'Python',3.14}\n",
    "repeated_elements_set = {1,2,3,3,2,2,2,1,5,8,0} \n",
    "repeated_elements_set"
   ]
  },
  {
   "cell_type": "code",
   "execution_count": null,
   "metadata": {
    "id": "9zD-10yeq_sc",
    "outputId": "ce75d28e-4314-44dd-aaa0-960cbbc8749e"
   },
   "outputs": [
    {
     "ename": "TypeError",
     "evalue": "unhashable type: 'list'",
     "output_type": "error",
     "traceback": [
      "\u001b[1;31m---------------------------------------------------------------------------\u001b[0m",
      "\u001b[1;31mTypeError\u001b[0m                                 Traceback (most recent call last)",
      "\u001b[1;32m<ipython-input-24-e3e4fb3443fc>\u001b[0m in \u001b[0;36m<module>\u001b[1;34m\u001b[0m\n\u001b[1;32m----> 1\u001b[1;33m \u001b[0mThis_is_a_mistake\u001b[0m \u001b[1;33m=\u001b[0m \u001b[1;33m{\u001b[0m\u001b[1;33m[\u001b[0m\u001b[1;36m1\u001b[0m\u001b[1;33m,\u001b[0m\u001b[1;36m2\u001b[0m\u001b[1;33m,\u001b[0m\u001b[1;36m3\u001b[0m\u001b[1;33m]\u001b[0m\u001b[1;33m,\u001b[0m \u001b[1;33m[\u001b[0m\u001b[1;36m10\u001b[0m\u001b[1;33m,\u001b[0m\u001b[1;36m20\u001b[0m\u001b[1;33m,\u001b[0m\u001b[1;36m30\u001b[0m\u001b[1;33m]\u001b[0m\u001b[1;33m,\u001b[0m \u001b[1;33m[\u001b[0m\u001b[1;34m'Example'\u001b[0m\u001b[1;33m,\u001b[0m \u001b[1;34m'Nested'\u001b[0m\u001b[1;33m,\u001b[0m \u001b[1;34m'List'\u001b[0m\u001b[1;33m]\u001b[0m\u001b[1;33m}\u001b[0m \u001b[1;31m# Gives an Error\u001b[0m\u001b[1;33m\u001b[0m\u001b[1;33m\u001b[0m\u001b[0m\n\u001b[0m",
      "\u001b[1;31mTypeError\u001b[0m: unhashable type: 'list'"
     ]
    }
   ],
   "source": [
    "This_is_a_mistake = {[1,2,3], [10,20,30], ['Example', 'Nested', 'List']} # Gives an Error"
   ]
  },
  {
   "cell_type": "code",
   "execution_count": null,
   "metadata": {
    "id": "VtJAwtnzq_sc",
    "outputId": "3bd8f2e9-e058-42c2-ba43-4e8a2d713707"
   },
   "outputs": [
    {
     "name": "stdout",
     "output_type": "stream",
     "text": [
      "{1, 2, 3, 10, 20}\n"
     ]
    },
    {
     "data": {
      "text/plain": [
       "{0, 1, 2, 3, 5, 8, 10, 20}"
      ]
     },
     "execution_count": 30,
     "metadata": {
      "tags": []
     },
     "output_type": "execute_result"
    }
   ],
   "source": [
    "simple_set.update([2,10,20])\n",
    "print(simple_set)\n",
    "simple_set.union(repeated_elements_set)"
   ]
  },
  {
   "cell_type": "markdown",
   "metadata": {
    "id": "uyuIR0Mwq_sd"
   },
   "source": [
    "# 4. Control Flow Tools and Iterators\n",
    "\n",
    "Control flow is when certain block of code is required to perform an operation in a repeated manner. Some of the simple conditional statements include if, elif and else which uses boolean condition to execute a set of command. The use of indentation and semi-colon (:) is important to note here which is a part of Python syntax. \n",
    "\n",
    "More documentation on the Python web site: https://docs.python.org/3/tutorial/controlflow.html"
   ]
  },
  {
   "cell_type": "code",
   "execution_count": null,
   "metadata": {
    "id": "kXcdDbpUq_sd",
    "outputId": "e835cb79-9333-47e2-ac61-abf0dfc26efb"
   },
   "outputs": [
    {
     "name": "stdout",
     "output_type": "stream",
     "text": [
      "Please input the well pressure in (psi) 500\n",
      "\n",
      "\n",
      "Things look pretty stable, continue the process\n"
     ]
    }
   ],
   "source": [
    "# Getting an input from the user\n",
    "Well_pressure=int(input('Please input the well pressure in (psi) '))\n",
    "print('\\n')\n",
    "# example of if-elif-else\n",
    "if (Well_pressure > 1000):\n",
    "    print('Be very caution there might be a danger')\n",
    "elif(Well_pressure <= 1000 and Well_pressure>= 500):\n",
    "    print('Things look pretty stable, continue the process')\n",
    "else:\n",
    "    print('Recheck the pressure value, it seems that its pretty low')"
   ]
  },
  {
   "cell_type": "markdown",
   "metadata": {
    "id": "Po_XyEVXq_sd"
   },
   "source": [
    "On the other hand, there are two primary categories for loop controls statements which are either based on **loop counts** or **controlled by an event**. \n",
    "\n",
    "Examples of the loop controls include for, while, break, continue or pass. A 'for' statement belongs to the first category where loop is executed for every item in a list or a loop count. A 'while' statement is executed while a particular condition is true. There are cases when the code needs to be forced out of the loop and 'break' is used in that situation. 'Continue' is used when a remainder of a current loop needs to be skipped to another iteration. "
   ]
  },
  {
   "cell_type": "code",
   "execution_count": null,
   "metadata": {
    "id": "ULwPwx0Xq_sd",
    "outputId": "56e4b1e9-c8dc-48f3-86ab-bb78cffca8a4"
   },
   "outputs": [
    {
     "name": "stdout",
     "output_type": "stream",
     "text": [
      "Entered the loop for count 0\n",
      "Entered the loop for count 1\n",
      "Entered the loop for count 2\n",
      "Entered the loop for count 3\n",
      "Entered the loop for count 4\n",
      "Entered the loop for count 5\n",
      "Entered the loop for count 6\n",
      "Entered the loop for count 7\n",
      "Entered the loop for count 8\n",
      "Entered the loop for count 9\n",
      "Entered the loop for count 10\n",
      "Entered the loop for count 11\n",
      "Entered the loop for count 12\n",
      "Entered the loop for count 13\n",
      "Entered the loop for count 14\n",
      "Entered the loop for count 15\n",
      "Entered the loop for count 16\n",
      "Entered the loop for count 17\n",
      "Entered the loop for count 18\n",
      "Entered the loop for count 19\n",
      "Loop Execution is complete!\n"
     ]
    }
   ],
   "source": [
    "for element_that_can_named_anything in range(20):\n",
    "    print('Entered the loop for count', element_that_can_named_anything)\n",
    "print('Loop Execution is complete!')"
   ]
  },
  {
   "cell_type": "code",
   "execution_count": null,
   "metadata": {
    "id": "OKttx2Ppq_se",
    "outputId": "c9315a63-7bfa-4cf0-9b4e-e736581d0ac2"
   },
   "outputs": [
    {
     "name": "stdout",
     "output_type": "stream",
     "text": [
      "Please input the initial capacity that the reservoir contain in (bbl): 20\n",
      "The tank is still filling\n",
      "The tank is still filling\n",
      "The tank is still filling\n",
      "The tank is still filling\n",
      "The tank is still filling\n",
      "The tank is still filling\n",
      "The tank is still filling\n",
      "The tank is still filling\n",
      "The tank is already full\n"
     ]
    }
   ],
   "source": [
    "Storage_capacity=int(input('Please input the initial capacity that the reservoir contain in (bbl): '))\n",
    "\n",
    "while (Storage_capacity<100):\n",
    "    print('The tank is still filling')\n",
    "    Storage_capacity=Storage_capacity+10\n",
    "else:\n",
    "    print('The tank is already full')"
   ]
  },
  {
   "cell_type": "markdown",
   "metadata": {
    "id": "dF1cqn-6q_se"
   },
   "source": [
    "# 5. Basic Object Oriented Programming\n",
    "In Python, a function is a group of related statements that performs a specific task. Functions help break our program into smaller and modular chunks. As our program grows larger and larger, functions make it more organized and manageable. Furthermore, it avoids repetition and makes the code reusable.\n",
    "\n",
    "There is mainly two types:\n",
    "- Built-in functions\n",
    "- User functions\n",
    "\n",
    "More documentation: https://docs.python.org/3/tutorial/controlflow.html#defining-functions"
   ]
  },
  {
   "cell_type": "code",
   "execution_count": null,
   "metadata": {
    "id": "jcXMsTANq_se"
   },
   "outputs": [],
   "source": [
    "# function to convert units for mud weight\n",
    "def unit_conversion():\n",
    "    '''\n",
    "    This function is used to convert units of mud weight.\n",
    "    \n",
    "    Input: Mud Weight in kg/m3\n",
    "    Output: Mud Weight in ppg or psi/ft or specific gravity\n",
    "    \n",
    "    '''\n",
    "    a=int(input('Please input the mud weight in (kg/m3): ' ))\n",
    "    print('The entered mud weight in kg/m3 is:', a)\n",
    "    mw_ppg = a * 0.0083454\n",
    "    mw_psift = a * 0.000434\n",
    "    sp_gravity = a * 0.001\n",
    "    print('Mud Weight in ppg:', mw_ppg)\n",
    "    print('Mud Weight in psi/ft:', mw_psift)\n",
    "    print('Specific Gravity:', sp_gravity)"
   ]
  },
  {
   "cell_type": "code",
   "execution_count": null,
   "metadata": {
    "id": "vsVtWC3-q_se",
    "outputId": "c155d64d-2ced-476a-b9a9-1c05e2aa1406"
   },
   "outputs": [
    {
     "name": "stdout",
     "output_type": "stream",
     "text": [
      "Please input the mud weight in (kg/m3): 14\n",
      "The entered mud weight in kg/m3 is: 14\n",
      "Mud Weight in ppg: 0.11683559999999998\n",
      "Mud Weight in psi/ft: 0.006076\n",
      "Specific Gravity: 0.014\n"
     ]
    }
   ],
   "source": [
    "unit_conversion()\n",
    "#help(unit_conversion)"
   ]
  },
  {
   "cell_type": "markdown",
   "metadata": {
    "id": "D2JX6_8Uq_sf"
   },
   "source": [
    "**Note**\n",
    "- When we are using only functions as blocks of statements within a code, it is called **procedure-oriented** way of programming. However there is another way of writing more complicated programs commonly known as **object-oriented programming** (OOP). \n",
    "\n",
    "\n",
    "- Data and functionality (i.e. properties and behavior) is wrapped inside a class and object which are the two main aspects of OOP. Class is used to create a user-defined data structures with information related to a particular characteristic. \n",
    "\n",
    "\n",
    "- It can be thought of as a blueprint which can be filled out with different instances. Different objects are created within a class which contain attributes. An example of a simple class is shown below. For a more detailed description of classes the readers are recommended to refer to https://docs.python.org/3/tutorial/classes.html. "
   ]
  },
  {
   "cell_type": "code",
   "execution_count": null,
   "metadata": {
    "id": "lWGDNTFKq_sf"
   },
   "outputs": [],
   "source": [
    "class well():\n",
    "    # class attribute\n",
    "    well_type = 'oil well'\n",
    "    \n",
    "    # initializer\n",
    "    def __init__(self, api, Basin, oil_prod, gas_prod):\n",
    "        self.api = api\n",
    "        self.Basin = Basin\n",
    "        self.oil_prod = oil_prod # BBL\n",
    "        self.gas_prod = gas_prod # MCF\n",
    "        \n",
    "    # instance method\n",
    "    def boe_calc(self):\n",
    "        boe = self.oil_prod + self.gas_prod/5.8\n",
    "        return boe        "
   ]
  },
  {
   "cell_type": "code",
   "execution_count": null,
   "metadata": {
    "id": "WNcLOZ3dq_sf",
    "outputId": "6cf0e9b5-3358-4fd6-ec9b-04e174a3eb4c"
   },
   "outputs": [
    {
     "name": "stdout",
     "output_type": "stream",
     "text": [
      "1862.0689655172414\n",
      "3034.4827586206898\n"
     ]
    }
   ],
   "source": [
    "# instantiating the class\n",
    "well_1 = well('dechra_13', 'Basin A', 1000, 5000)\n",
    "\n",
    "# calling a method of the class\n",
    "print(well_1.boe_calc()) # boe production of well_1\n",
    "\n",
    "well_2 = well('hassi_3', 'Basin B', 2000, 6000)\n",
    "print(well_2.boe_calc()) # boe production of well_1"
   ]
  },
  {
   "cell_type": "code",
   "execution_count": null,
   "metadata": {
    "id": "X2nf1ekjq_sf",
    "outputId": "ef548554-ddd8-43fc-ebba-972b3ee27ad2"
   },
   "outputs": [
    {
     "name": "stdout",
     "output_type": "stream",
     "text": [
      "API for first well is: dechra_13 and its in Basin A Basin\n",
      "dechra_13 belongs to oil well category\n"
     ]
    }
   ],
   "source": [
    "# access the instance attributes\n",
    "print('API for first well is:', well_1.api, 'and its in', well_1.Basin, 'Basin')\n",
    "if well_1.well_type == 'oil well':\n",
    "    print(\"{0} belongs to {1} category\".format(well_1.api, well_1.well_type))"
   ]
  },
  {
   "cell_type": "markdown",
   "metadata": {
    "id": "6Xo6YeQbq_sg"
   },
   "source": [
    "# 6. Python Libraries"
   ]
  },
  {
   "cell_type": "markdown",
   "metadata": {},
   "source": [
    "A Python library is a collection of related modules. It contains bundles of code that can be used repeatedly in different programs. It makes Python Programming simpler and convenient for the programmer. As we don’t need to write the same code again and again for different programs. Python libraries play a very vital role in fields of Machine Learning, Data Science, Data Visualization, etc."
   ]
  },
  {
   "cell_type": "markdown",
   "metadata": {
    "id": "812wJcsRq_sg"
   },
   "source": [
    "**Data wrangling libraries**\n",
    "- **Pandas** is turning up to be the most popular Python library that is used for data analysis with support for fast, flexible, and expressive data structures designed to work on both “relational” or “labeled” data. Pandas today is an inevitable library for solving practical, real-world data analysis in Python.\n",
    "\n",
    "- **NumPy** is a well known general-purpose array-processing package. An extensive collection of high complexity mathematical functions make NumPy powerful to process large multi-dimensional arrays and matrices. NumPy is very useful for handling linear algebra, Fourier transforms, and random numbers. Other libraries like TensorFlow uses NumPy at the backend for manipulating tensors.\n",
    "\n",
    "- **SciPy** With machine learning growing at supersonic speed, many Python developers were creating python libraries for machine learning, especially for scientific and analytical computing. Travis Oliphant, Eric Jones, and Pearu Peterson in 2001 decided to merge most of these bits and pieces codes and standardize it. The resulting library was then named as SciPy library. \n",
    "\n",
    "- **Scikit-learn** has a wide range of supervised and unsupervised learning algorithms that works on a consistent interface in Python. The library can also be used for data-mining and data analysis. The main machine learning functions that the Scikit-learn library can handle are classification, regression, clustering, dimensionality reduction, model selection, and preprocessing.\n",
    "\n",
    "- **TensorFlow** is a popular computational framework for creating machine learning models. TensorFlow supports a variety of different toolkits for constructing models at varying levels of abstraction.\n",
    "\n",
    "- **Keras** works with neural-network building blocks like layers, objectives, activation functions, and optimizers. Keras also have a bunch of features to work on images and text images that comes handy when writing Deep Neural Network code.\n",
    "\n",
    "**Visualization libraries**\n",
    "- Matplotlib\n",
    "- Seaborn\n",
    "- ggplot\n",
    "- Bokeh\n",
    "- pygal\n",
    "- Plotly\n",
    "- geoplotlib\n",
    "- Gleam\n",
    "- missingno"
   ]
  },
  {
   "cell_type": "code",
   "execution_count": null,
   "metadata": {
    "id": "NNInCpGmq_sg"
   },
   "outputs": [],
   "source": [
    "# Importing a python library\n",
    "import pandas\n",
    "from pandas import * # * : means everything\n",
    "import pandas as pd # for short form (this is the most used on)\n",
    "\n",
    "# if the library isn't installed we use the pip command, Note that it varies depanding on the environment you're using\n",
    "!pip install pandas\n",
    "\n",
    "# you can specify the version of library to install with == xx\n",
    "!pip install pandas #==1"
   ]
  }
 ],
 "metadata": {
  "colab": {
   "collapsed_sections": [
    "eJTYuwpSq_sQ",
    "Zo9yIo6Nq_sV",
    "uyuIR0Mwq_sd",
    "dF1cqn-6q_se",
    "6Xo6YeQbq_sg"
   ],
   "provenance": []
  },
  "kernelspec": {
   "display_name": "Python 3",
   "language": "python",
   "name": "python3"
  },
  "language_info": {
   "codemirror_mode": {
    "name": "ipython",
    "version": 3
   },
   "file_extension": ".py",
   "mimetype": "text/x-python",
   "name": "python",
   "nbconvert_exporter": "python",
   "pygments_lexer": "ipython3",
   "version": "3.8.3"
  }
 },
 "nbformat": 4,
 "nbformat_minor": 1
}
