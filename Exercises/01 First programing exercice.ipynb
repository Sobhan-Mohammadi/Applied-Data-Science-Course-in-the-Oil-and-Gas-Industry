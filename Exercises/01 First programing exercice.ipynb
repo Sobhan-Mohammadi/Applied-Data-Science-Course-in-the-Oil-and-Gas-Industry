{
 "cells": [
  {
   "cell_type": "markdown",
   "metadata": {
    "id": "hczr2f0Gfbir"
   },
   "source": [
    "# Coding exercice 01:\n",
    "Below there are a couple of python exercices you have to solve, in addition to that, there is a small problematic at the end."
   ]
  },
  {
   "cell_type": "code",
   "execution_count": null,
   "metadata": {
    "id": "73JWBwXXfWTa"
   },
   "outputs": [],
   "source": [
    "# create a variable called Well_IP with an appropriate value being DZ_AKA_12343112 on the line below\n",
    "# (Remember, strings in Python must be enclosed in 'single' or \"double\" quotes)\n",
    "\n",
    "# Your code here\n",
    "\n"
   ]
  },
  {
   "cell_type": "markdown",
   "metadata": {
    "id": "8CioqY1PoFY0"
   },
   "source": [
    "<hr/>\n",
    "\n",
    "## Operations.\n",
    "\n",
    "Complete the code below. In case it's helpful, here is the table of available arithmetic operations:\n",
    "\n",
    "\n",
    "\n",
    "| Operator     | Name           | Description                                            |\n",
    "|--------------|----------------|--------------------------------------------------------|\n",
    "| ``a + b``    | Addition       | Sum of ``a`` and ``b``                                 |\n",
    "| ``a - b``    | Subtraction    | Difference of ``a`` and ``b``                          |\n",
    "| ``a * b``    | Multiplication | Product of ``a`` and ``b``                             |\n",
    "| ``a / b``    | True division  | Quotient of ``a`` and ``b``                            |\n",
    "| ``a // b``   | Floor division | Quotient of ``a`` and ``b``, removing fractional parts |\n",
    "| ``a % b``    | Modulus        | Integer remainder after division of ``a`` by ``b``     |\n",
    "| ``a ** b``   | Exponentiation | ``a`` raised to the power of ``b``                     |\n",
    "| ``-a``       | Negation       | The negative of ``a``                                  |\n",
    "\n",
    "<span style=\"display:none\"></span>\n"
   ]
  },
  {
   "cell_type": "markdown",
   "metadata": {
    "id": "tfYYaQmRoZu-"
   },
   "source": [
    "#### CALCULATING DEPTH BELOW THE SURFACE OF WATER: WHAT DEPTH OF WATER CREATES THE SAME PRESSURE AS THE ENTIRE ATMOSPHERE?\n",
    "Calculate the depth below the surface of water at which the pressure due to the weight of the water equals 1.00 atm.\n",
    "\n",
    "Strategy\n",
    "We begin by solving the equation ***P = hρg*** for depth h:\n",
    "\n",
    "- P= 1.01×10^5 (N/m2)\n",
    "- ρ= 1.00×10^3 (kg/m3)\n",
    "- g= 9.80 (m/s2)\n",
    "\n",
    "Discussion\n",
    "Just 10.3 m of water creates the same pressure as 120 km of air. Since water is nearly incompressible, we can neglect any change in its density over this depth."
   ]
  },
  {
   "cell_type": "code",
   "execution_count": null,
   "metadata": {
    "id": "aeGcFyxzn88t"
   },
   "outputs": [],
   "source": [
    "# Calculate the value of h\n",
    "h= ..."
   ]
  },
  {
   "cell_type": "code",
   "execution_count": null,
   "metadata": {
    "id": "7aF0QES6rkYQ"
   },
   "outputs": [],
   "source": [
    "# If you're curious, these are examples of lists. We'll talk about \n",
    "# them in depth a few lessons from now. For now, just know that they're\n",
    "# yet another type of Python object, like int or float.\n",
    "a = [12, 2342, 5433]\n",
    "b = [335, 2546, 13249]\n",
    "\n",
    "######################################################################\n",
    "\n",
    "# Your code goes here. Swap the values to which a and b refer.\n",
    "# If you get stuck, you can always uncomment one or both of the lines in\n",
    "# the next cell for a hint, or to peek at the solution.\n",
    "\n",
    "# Hint: If you have two liquids in two glasses respectively and you want to swap them \n",
    "# How much glasses would you need?\n",
    "...\n",
    "...\n",
    "..."
   ]
  },
  {
   "cell_type": "markdown",
   "metadata": {
    "id": "yvG055dBnbio"
   },
   "source": [
    "a) Add parentheses to the following expression so that it evaluates to 1."
   ]
  },
  {
   "cell_type": "code",
   "execution_count": null,
   "metadata": {
    "colab": {
     "base_uri": "https://localhost:8080/"
    },
    "id": "8Mec56K7seoo",
    "outputId": "4cd01304-3cdb-467b-e1a0-860784f96061"
   },
   "outputs": [
    {
     "data": {
      "text/plain": [
       "4"
      ]
     },
     "execution_count": 1,
     "metadata": {
      "tags": []
     },
     "output_type": "execute_result"
    }
   ],
   "source": [
    "5 - 3 // 2"
   ]
  },
  {
   "cell_type": "markdown",
   "metadata": {
    "id": "ZDGD6KVGnbip"
   },
   "source": [
    "b) <span title=\"A bit spicy\" style=\"color: darkgreen \">🌶️</span> Add parentheses to the following expression so that it evaluates to 0\n"
   ]
  },
  {
   "cell_type": "code",
   "execution_count": null,
   "metadata": {
    "id": "MFytMjxxs9pN"
   },
   "outputs": [],
   "source": [
    "8 - 3 * 2 - (1 + 1)"
   ]
  },
  {
   "cell_type": "markdown",
   "metadata": {
    "id": "mA0AgbFTtI1_"
   },
   "source": [
    "c) You are in charge of three fields, wall_1, well_2 and well_3, in order to supply them with water ressources evenly, The team decided to take the water value that each well possesses and share the total.\n",
    "In order to be totally fair, any water access will be staying at the base. For example,  if they collectively possess home 91 cubic meter of water, they'll send back that 1 cubic meter back.\n",
    "\n",
    "Write an arithmetic expression below to calculate how many cubic meter of watter they have to send back given the folloing values:\n",
    "\n",
    "- Well_1 = 121\n",
    "- Well_2 = 77\n",
    "- Well_3 = 109\n",
    "\n"
   ]
  },
  {
   "cell_type": "code",
   "execution_count": null,
   "metadata": {
    "id": "ouG8iS5mvAav"
   },
   "outputs": [],
   "source": [
    "# Variables representing the number of candies collected by alice, bob, and carol\n",
    "Well_1 = ...\n",
    "Well_2 = ...\n",
    "Well_3 = ...\n",
    "\n",
    "# Your code goes here! Replace the right-hand side of this assignment with an expression\n",
    "to_send_back = ...\n"
   ]
  },
  {
   "cell_type": "markdown",
   "metadata": {
    "id": "Gi6mJxPFvotY"
   },
   "source": [
    "\n",
    "\n",
    "---\n",
    "\n"
   ]
  },
  {
   "cell_type": "markdown",
   "metadata": {
    "id": "RkH4aXXpvqfi"
   },
   "source": [
    "# Functions\n",
    "a) define a function pressure that takes as input 3 variables (a,b,c) and computes it's sum and product: \n",
    "example: a=123, b=52 , c=326\n",
    "- Sum=501\n",
    "- Product=2085096"
   ]
  },
  {
   "cell_type": "code",
   "execution_count": null,
   "metadata": {
    "colab": {
     "base_uri": "https://localhost:8080/"
    },
    "id": "_LUF0k8RgseW",
    "outputId": "fab1c5c6-c7f0-4edc-c347-da4fd1beaba9"
   },
   "outputs": [
    {
     "data": {
      "text/plain": [
       "2085096"
      ]
     },
     "execution_count": 2,
     "metadata": {
      "tags": []
     },
     "output_type": "execute_result"
    }
   ],
   "source": [
    "# Your code here\n",
    "def function():\n",
    "  ...\n",
    "\n",
    "function(213,12,34256)"
   ]
  },
  {
   "cell_type": "markdown",
   "metadata": {
    "id": "viIKcLsahjJ4"
   },
   "source": [
    "b) define a function that asks an input (Rho,g,h and Po) from the user, and computes the pressure\n",
    "\n",
    "Hint\n",
    "- The pressure formula is: P= (Rho x g x h) + Po\n",
    "- To ask an input from the user we use (Input_1= input('Ask for the variable here'))"
   ]
  },
  {
   "cell_type": "code",
   "execution_count": null,
   "metadata": {
    "id": "X80JFFo_higp"
   },
   "outputs": [],
   "source": [
    "# Your code here\n"
   ]
  },
  {
   "cell_type": "markdown",
   "metadata": {
    "id": "3JFQAawSjzPl"
   },
   "source": [
    "c) A very usefull built-in function in python is (help() ), you can use it to get the info about function. an example is illustrated below"
   ]
  },
  {
   "cell_type": "code",
   "execution_count": null,
   "metadata": {
    "colab": {
     "base_uri": "https://localhost:8080/"
    },
    "id": "2qGaS7ndjxuO",
    "outputId": "fc2f9812-aba0-4806-cd4f-efbc053be28e"
   },
   "outputs": [
    {
     "name": "stdout",
     "output_type": "stream",
     "text": [
      "Help on built-in function round in module builtins:\n",
      "\n",
      "round(number, ndigits=None)\n",
      "    Round a number to a given precision in decimal digits.\n",
      "    \n",
      "    The return value is an integer if ndigits is omitted or None.  Otherwise\n",
      "    the return value has the same type as the number.  ndigits may be negative.\n",
      "\n"
     ]
    }
   ],
   "source": [
    "help(round)"
   ]
  },
  {
   "cell_type": "code",
   "execution_count": null,
   "metadata": {
    "id": "Ni9O_OHRklhd"
   },
   "outputs": [],
   "source": [
    "# Try it yourself, ask for help on the following built in function (len, min,max)\n"
   ]
  },
  {
   "cell_type": "markdown",
   "metadata": {
    "id": "6WG2H3lBkyro"
   },
   "source": [
    "\n",
    "\n",
    "---\n",
    "\n"
   ]
  },
  {
   "cell_type": "markdown",
   "metadata": {
    "id": "LbbreIEZk2Ct"
   },
   "source": [
    "# Lists"
   ]
  },
  {
   "cell_type": "markdown",
   "metadata": {
    "id": "N5n86WcASCJo"
   },
   "source": [
    "a) Complete the function below according to its docstring."
   ]
  },
  {
   "cell_type": "code",
   "execution_count": null,
   "metadata": {
    "id": "7533lTJjND7P"
   },
   "outputs": [],
   "source": [
    "# Complete the function below according to its docstring.\n",
    "def select_second(L):\n",
    "    \"\"\"Return the second element of the given list. If the list has no second\n",
    "    element, return None.\n",
    "    \"\"\"\n",
    "    if len(L)>=2:\n",
    "        return L[] \n",
    "    else:\n",
    "        return \n",
    "    pass"
   ]
  },
  {
   "cell_type": "markdown",
   "metadata": {
    "id": "tjjBt_zdOWWs"
   },
   "source": [
    "b) Given a list of teams, where each team is a list of names, return the second element\n"
   ]
  },
  {
   "cell_type": "code",
   "execution_count": null,
   "metadata": {
    "id": "1W9vc8XBOBkk"
   },
   "outputs": [],
   "source": [
    "def Last_list_second_element(lists_list):\n",
    "    \"\"\"Given a list of teams, where each team is a list of names, return the second element \n",
    "    from the last listed list\n",
    "    \"\"\"\n",
    "    return lists_list......\n",
    "    pass"
   ]
  },
  {
   "cell_type": "markdown",
   "metadata": {
    "id": "_8ddtz4yS6Yc"
   },
   "source": [
    "Given a list, set the first element to the last index and vice versa with the last element.\n",
    "\n"
   ]
  },
  {
   "cell_type": "code",
   "execution_count": null,
   "metadata": {
    "id": "H47HRuBQS7Mv"
   },
   "outputs": [],
   "source": [
    "def first_last_switch(List):\n",
    "    \"\"\"Given a list, set the first element to the last index and vice versa with the last element.\n",
    "    \n",
    "    >>> List = [\"a\", \"b\", \"c\"]\n",
    "    >>> first_last_switch(List)\n",
    "    >>> r\n",
    "    [\"c\", \"b\", \"a\"]\n",
    "    \"\"\"\n",
    "    List[0],List[-1]=.......\n",
    "    pass"
   ]
  },
  {
   "cell_type": "markdown",
   "metadata": {
    "id": "ma-wjjL9UXEJ"
   },
   "source": [
    "What are the lengths of the following lists? Fill in the variable `lengths` with your predictions. (Try to make a prediction for each list *without* just calling `len()` on it.)"
   ]
  },
  {
   "cell_type": "code",
   "execution_count": null,
   "metadata": {
    "id": "Y_BxATN3UXQ5"
   },
   "outputs": [],
   "source": [
    "a = [1, 2, 3]\n",
    "b = [1, [2, 3]]\n",
    "c = []\n",
    "d = [1, 2, 3][1:]\n",
    "\n",
    "# Put your predictions in the list below. Lengths should contain 4 numbers, the\n",
    "# first being the length of a, the second being the length of b and so on.\n",
    "lengths = [.,.,.,.]"
   ]
  },
  {
   "cell_type": "markdown",
   "metadata": {
    "id": "A238cg-YU7qS"
   },
   "source": [
    "🌶️) We're using lists to record companies representatives who attended the international symposium of Oil and Gas and what order they arrived in. For example, the following list represents an event with 7 guests:\n",
    "\n",
    "\n",
    "    symposium_attendees = ['PetroChina', 'Royal Dutch Shell', 'Saudi Arabian Oil', 'BP', 'Exxon Mobil', 'Total', 'Chevron']\n",
    "\n",
    "A representative is considered 'fashionably late' if they arrived after at least half of the symposium's guests. However, they must not be the very last guest (that's taking it too far).\n",
    "\n",
    "Complete the function below which takes a list of event attendees as well as a representative, and tells us whether that representative is fashionably late."
   ]
  },
  {
   "cell_type": "code",
   "execution_count": null,
   "metadata": {
    "id": "xfNdjlUaU716"
   },
   "outputs": [],
   "source": [
    "def fashionably_late(arrivals, representative_name):\n",
    "    \"\"\"Given an ordered list of arrivals to the event and a name, return whether the guest with that\n",
    "    name was fashionably late.\n",
    "    \"\"\"\n",
    "    order = arrivals.index(representative_name)\n",
    "    return ......... / 2 and order != len(..) - 1\n",
    "    pass\n"
   ]
  },
  {
   "cell_type": "markdown",
   "metadata": {
    "id": "YSozeKAvXjYp"
   },
   "source": [
    "# Loops, Loops, Loops"
   ]
  },
  {
   "cell_type": "markdown",
   "metadata": {
    "id": "v60yVGB3nNe7"
   },
   "source": [
    "a) The following program has a bug. Try to identify the bug and fix it."
   ]
  },
  {
   "cell_type": "code",
   "execution_count": null,
   "metadata": {
    "id": "q2W2lA6jnNe7"
   },
   "outputs": [],
   "source": [
    "def Yes_or_No(nums):\n",
    "    \"\"\"Return whether the given list of numbers contains\n",
    "    at least one number divisible by 3.\n",
    "    \"\"\"\n",
    "    for num in nums:\n",
    "        if ......:\n",
    "            return True\n",
    "        else:\n",
    "            return False\n",
    "\n",
    "# Hint: Use num % the indicator = No remaining"
   ]
  },
  {
   "cell_type": "markdown",
   "metadata": {
    "id": "HCT8btPHnNe9"
   },
   "source": [
    "\n",
    "b) Implement a function to do an 'element-wise' comparison, returning a list of booleans(`[False, False, True, True]`) corresponding to whether the corresponding element is greater than a pre-defined threshold.\n",
    "\n"
   ]
  },
  {
   "cell_type": "code",
   "execution_count": null,
   "metadata": {
    "id": "xA6fOLi_ZGAe"
   },
   "outputs": [],
   "source": [
    "def elementwise_greater_than(L, threshold):\n",
    "    \"\"\"Return a list with the same length as L, where the value at index i is \n",
    "    True if L[i] is greater than thresh, and False otherwise.\n",
    "    \n",
    "    >>> elementwise_greater_than([1, 2, 3, 4], 2)\n",
    "    [False, False, True, True]\n",
    "    \"\"\"\n",
    "    lis=[]\n",
    "    for i in L:\n",
    "        lis.append(....)\n",
    "    return lis\n",
    "    pass\n",
    "\n",
    "# Hint compare each element with the threshold using >"
   ]
  },
  {
   "cell_type": "markdown",
   "metadata": {
    "id": "9IrfMjPwlNod"
   },
   "source": [
    "# Strings and dictionaries"
   ]
  },
  {
   "cell_type": "markdown",
   "metadata": {
    "id": "s30TYKYylb1f"
   },
   "source": [
    "a) You hold the position of super attendant, which makes you responsible of multiple fields each referred to with a 5 digits zip code. You we'll have to place orders but you can afford giving the logistics a falsy list.\n",
    "write a small program given a string, it should return whether or not that string represents a valid zip code. For our purposes, a valid zip code is any string consisting of exactly 5 digits."
   ]
  },
  {
   "cell_type": "code",
   "execution_count": null,
   "metadata": {
    "id": "P9QeeMv2lTiZ"
   },
   "outputs": [],
   "source": [
    "def is_valid_zip(zip_code):\n",
    "    \"\"\"Returns whether the input string is a valid (5 digit) zip code\n",
    "    \"\"\"\n",
    "    return ..... and ....... \n",
    "\n",
    "\n",
    "# Hint: use isdigit() to check if the element is numerical, use len() to check the length of the element"
   ]
  },
  {
   "cell_type": "markdown",
   "metadata": {
    "id": "Wp2Ym9gJnC-Y"
   },
   "source": [
    "🌶️) You're a researcher and you've gathered thousands of news articles. But you need to focus your attention on articles including a specific word. Complete the function below to filter your list of articles.\n",
    "\n",
    "Your function should meet the following criteria:\n",
    "\n",
    "- Do not include documents where the keyword string shows up only as a part of a larger word. For example, if she were looking for the keyword “closed”, you would not include the string “enclosed.” \n",
    "- She does not want you to distinguish upper case from lower case letters. So the phrase “Closed the case.” would be included when the keyword is “closed”\n",
    "- Do not let periods or commas affect what is matched. “It is closed.” would be included when the keyword is “closed”. But you can assume there are no other types of punctuation."
   ]
  },
  {
   "cell_type": "code",
   "execution_count": null,
   "metadata": {
    "id": "Nc35QfOvnDPn"
   },
   "outputs": [],
   "source": [
    "def word_search(documents, keyword):\n",
    "    # Create a list to hold the indices of matching documents\n",
    "    indices = \n",
    "    # Iterate through the indices (i) and elements (doc) of documents\n",
    "    for ..,..  in enumerate(....):\n",
    "        # Split the string doc into a list of words and assigned it the 'tokens' (according to whitespace)\n",
    "        tokens = doc........()\n",
    "        # Make a transformed list where we 'normalize' each word to facilitate matching.\n",
    "        # Periods and commas are removed from the end of each word, and it's set to all lowercase.\n",
    "        normalized = [token.rstrip('.,').lower() for token in tokens]\n",
    "        # Is there a match? If so, update the list of matching indices.\n",
    "        if keyword.lower() in normalized:\n",
    "            indices.append(i)\n",
    "    return indices"
   ]
  },
  {
   "cell_type": "markdown",
   "metadata": {
    "id": "7PeKGiIEpXkg"
   },
   "source": [
    "# All right congratulations you're done with the first section of python essentials\n",
    "# In the next session we will tackle Python libraries for data exploration and visualization"
   ]
  }
 ],
 "metadata": {
  "colab": {
   "provenance": []
  },
  "kernelspec": {
   "display_name": "Python 3",
   "language": "python",
   "name": "python3"
  },
  "language_info": {
   "codemirror_mode": {
    "name": "ipython",
    "version": 3
   },
   "file_extension": ".py",
   "mimetype": "text/x-python",
   "name": "python",
   "nbconvert_exporter": "python",
   "pygments_lexer": "ipython3",
   "version": "3.8.3"
  }
 },
 "nbformat": 4,
 "nbformat_minor": 1
}
